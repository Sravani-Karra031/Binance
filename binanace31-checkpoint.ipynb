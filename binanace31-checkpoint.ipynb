{
 "cells": [
  {
   "cell_type": "code",
   "execution_count": 5,
   "id": "e48346ce",
   "metadata": {},
   "outputs": [
    {
     "name": "stdout",
     "output_type": "stream",
     "text": [
      "Done\n"
     ]
    }
   ],
   "source": [
    "import requests\n",
    "import csv\n",
    "\n",
    "url = 'https://api.binance.com/api/v3/ticker/24hr'\n",
    "headers = {\n",
    "    \"Accept\": 'application/json',\n",
    "    \"Content-Type\": 'application/json'\n",
    "}\n",
    "response = requests.get(url, headers=headers)\n",
    "myjson = response.json()\n",
    "outdata = []\n",
    "\n",
    "# Define the CSV header\n",
    "csvheader = ['symbol', 'firstId', 'volume', 'priceChange', 'priceChangePercent',\n",
    "             'weightedAvgPrice', 'prevClosePrice', 'lastPrice', 'lastQty', 'bidPrice',\n",
    "             'bidQty', 'askPrice', 'askQty', 'openPrice', 'highPrice', 'lowPrice',\n",
    "             'quoteVolume', 'openTime', 'closeTime', 'lastId', 'count']\n",
    "\n",
    "for x in myjson:\n",
    "    listing = [x['symbol'], x['firstId'], x['volume'], x['priceChange'], x['priceChangePercent'],\n",
    "               x['weightedAvgPrice'], x['prevClosePrice'], x['lastPrice'], x['lastQty'], x['bidPrice'],\n",
    "               x['bidQty'], x['askPrice'], x['askQty'], x['openPrice'], x['highPrice'], x['lowPrice'],\n",
    "               x['quoteVolume'], x['openTime'], x['closeTime'], x['lastId'], x['count']]\n",
    "    outdata.append(listing)\n",
    "\n",
    "# Write data to a CSV file\n",
    "with open('binance.csv', 'w', encoding='UTF8', newline='') as f:\n",
    "    writer = csv.writer(f)\n",
    "    writer.writerow(csvheader)\n",
    "    writer.writerows(outdata)\n",
    "\n",
    "print(\"Done\")"
   ]
  },
  {
   "cell_type": "code",
   "execution_count": null,
   "id": "563d9c34",
   "metadata": {},
   "outputs": [],
   "source": []
  }
 ],
 "metadata": {
  "kernelspec": {
   "display_name": "Python 3 (ipykernel)",
   "language": "python",
   "name": "python3"
  },
  "language_info": {
   "codemirror_mode": {
    "name": "ipython",
    "version": 3
   },
   "file_extension": ".py",
   "mimetype": "text/x-python",
   "name": "python",
   "nbconvert_exporter": "python",
   "pygments_lexer": "ipython3",
   "version": "3.11.4"
  }
 },
 "nbformat": 4,
 "nbformat_minor": 5
}
